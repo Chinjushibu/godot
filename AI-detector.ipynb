{
  "nbformat": 4,
  "nbformat_minor": 0,
  "metadata": {
    "colab": {
      "provenance": [],
      "authorship_tag": "ABX9TyMG7qMJa7Jvs6aZevoyFjCr",
      "include_colab_link": true
    },
    "kernelspec": {
      "name": "python3",
      "display_name": "Python 3"
    },
    "language_info": {
      "name": "python"
    }
  },
  "cells": [
    {
      "cell_type": "markdown",
      "metadata": {
        "id": "view-in-github",
        "colab_type": "text"
      },
      "source": [
        "<a href=\"https://colab.research.google.com/github/Chinjushibu/godot/blob/master/AI-detector.ipynb\" target=\"_parent\"><img src=\"https://colab.research.google.com/assets/colab-badge.svg\" alt=\"Open In Colab\"/></a>"
      ]
    },
    {
      "cell_type": "code",
      "execution_count": null,
      "metadata": {
        "id": "_VO1nY9CU9KZ"
      },
      "outputs": [],
      "source": [
        "pip install openai_detector\n"
      ]
    },
    {
      "cell_type": "code",
      "source": [
        "from detector import OpenaiDetector\n",
        "\n",
        "sentence     = \"\"\"All children, except one, grow up. They soon know that they will grow up, and the way Wendy knew was this. One day when she was two years old she was playing in a garden, and she plucked another flower and ran with it to her mother. I suppose she must have looked rather delightful, for Mrs. Darling put her hand to her heart and cried, “Oh, why can’t you remain like this for ever!” This was all that passed between them on the subject, but henceforth Wendy knew that she must grow up. You always know after you are two. Two is the beginning of the end. Of course they lived at 14, and until Wendy came her mother was the chief one. She was a lovely lady, with a romantic mind and such a sweet mocking mouth. Her romantic mind was like the tiny boxes, one within the other, that come from the puzzling East, however many you discover there is always one more; and her sweet mocking mouth had one kiss on it that Wendy could never get, though there it was, perfectly conspicuous in the right-hand corner. The way Mr. Darling won her was this: the many gentlemen who had been boys when she was a girl discovered simultaneously that they loved her, and they all ran to her house to propose to her except Mr. Darling, who took a cab and nipped in first, and so he got her. He got all of her, except the innermost box and the kiss. He never knew about the box, and in time he gave up trying for the kiss. Wendy thought Napoleon could have got it, but I can picture him trying, and then going off in a passion, slamming the door. Mr. Darling used to boast to Wendy that her mother not only loved him but respected him. He was one of those deep ones who know about stocks and shares. Of course no one really knows, but he quite seemed to know, and he often said stocks were up and shares were down in a way that would have made any woman respect him.\"\"\"\n",
        "bearer_token = 'Bearer sess-abcd1234..'\n",
        "\n",
        "od = OpenaiDetector(bearer_token)\n",
        "response = od.detect(sentence)\n",
        "print(response)\n",
        "\n",
        "### Output\n",
        "\n",
        "{\"output\"          : \"The classifier considers the text to be very unlikely AI-generated.\",\n",
        "\"Confidence score\" : 96.15870427207666}"
      ],
      "metadata": {
        "colab": {
          "base_uri": "https://localhost:8080/"
        },
        "id": "dkQRDEWaVkDK",
        "outputId": "e6d7ead1-1fc5-400f-9343-ea151246ab0f"
      },
      "execution_count": 17,
      "outputs": [
        {
          "output_type": "stream",
          "name": "stdout",
          "text": [
            "Check prompt, Length of sentence it should be more than 1,000 characters\n"
          ]
        },
        {
          "output_type": "execute_result",
          "data": {
            "text/plain": [
              "{'output': 'The classifier considers the text to be very unlikely AI-generated.',\n",
              " 'Confidence score': 96.15870427207666}"
            ]
          },
          "metadata": {},
          "execution_count": 17
        }
      ]
    },
    {
      "cell_type": "code",
      "source": [
        "import requests\n",
        "import numpy as np\n"
      ],
      "metadata": {
        "id": "YTJJ-FWSXbPO"
      },
      "execution_count": 18,
      "outputs": []
    },
    {
      "cell_type": "code",
      "source": [
        "class OpenaiDetector:\n",
        "\n",
        "    def __init__(self, token):\n",
        "\n",
        "        self.header = {\n",
        "            'Accept': '*/*',\n",
        "            'Accept-Language': 'en-US,en;q=0.9,hi;q=0.8',\n",
        "            'Authorization': token,\n",
        "            'Connection': 'keep-alive',\n",
        "            'Content-Type': 'application/json',\n",
        "            'Origin': 'https://platform.openai.com',\n",
        "            'Referer': 'https://platform.openai.com/',\n",
        "            'Sec-Fetch-Dest': 'empty',\n",
        "            'Sec-Fetch-Mode': 'cors',\n",
        "            'Sec-Fetch-Site': 'same-site',\n",
        "            'User-Agent': 'Mozilla/5.0 (Macintosh; Intel Mac OS X 10_15_7) AppleWebKit/537.36 (KHTML, like Gecko) Chrome/109.0.0.0 Safari/537.36',\n",
        "            'sec-ch-ua': '\"Not_A Brand\";v=\"99\", \"Google Chrome\";v=\"109\", \"Chromium\";v=\"109\"',\n",
        "            'sec-ch-ua-mobile': '?0',\n",
        "            'sec-ch-ua-platform': '\"macOS\"',\n",
        "        }\n",
        "\n",
        "        self.possible_classes = ['very unlikely', 'unlikely', 'unclear if it is', 'possibly', 'likely']\n",
        "        self.class_max = [10, 45, 90, 98, 99]\n",
        "\n",
        "    def detect(self, text, all_probs=False):\n",
        "        data = {\n",
        "            'prompt': text + \"».\\n<|disc_score|>\",\n",
        "            'max_tokens': 1,\n",
        "            'temperature': 1,\n",
        "            'top_p': 1,\n",
        "            'n': 1,\n",
        "            'logprobs': 5,\n",
        "            'stop': '\\n',\n",
        "            'stream': False,\n",
        "            'model': 'model-detect-v2',\n",
        "        }\n",
        "\n",
        "        response = requests.post('https://api.openai.com/v1/completions', headers=self.header, json=data)\n",
        "        if response.status_code == 200:\n",
        "            choices = response.json()['choices'][0]\n",
        "            logprobs = choices['logprobs']['top_logprobs'][0]\n",
        "            probs = {key: 100 * np.e ** value for key, value in logprobs.items()}\n",
        "            key_prob = probs['\"']\n",
        "            if self.class_max[0] < key_prob < self.class_max[len(self.class_max) - 1]:\n",
        "                val = max(i for i in self.class_max if i < key_prob)\n",
        "                class_label = self.possible_classes[self.class_max.index(val)]\n",
        "            elif self.class_max[0] > key_prob:\n",
        "                class_label = self.possible_classes[0]\n",
        "            else:\n",
        "                class_label = self.possible_classes[len(self.possible_classes) - 1]\n",
        "            top_prob = {'Class': class_label, 'AI-Generated Probability': key_prob}\n",
        "            if all_probs:\n",
        "                return probs, top_prob\n",
        "            return top_prob\n",
        "        return \"Check prompt, Length of sentence it should be more than 1,000 characters\""
      ],
      "metadata": {
        "id": "Psk8L8uTYFIe"
      },
      "execution_count": 19,
      "outputs": []
    },
    {
      "cell_type": "markdown",
      "source": [
        "\"\"\"Python setup.py for package\"\"\""
      ],
      "metadata": {
        "id": "GsDdlH_pYxae"
      }
    },
    {
      "cell_type": "code",
      "source": [
        "import io\n",
        "import os\n",
        "\n",
        "from setuptools import find_packages, setup\n"
      ],
      "metadata": {
        "id": "fgusHCxYYctt"
      },
      "execution_count": 20,
      "outputs": []
    },
    {
      "cell_type": "code",
      "source": [
        "def read(*paths, **kwargs):\n",
        "    content = \"\"\n",
        "    with io.open(\n",
        "        os.path.join(os.path.dirname(__file__), *paths),\n",
        "        encoding=kwargs.get(\"encoding\", \"utf8\"),\n",
        "    ) as open_file:\n",
        "        content = open_file.read().strip()\n",
        "    return content\n"
      ],
      "metadata": {
        "id": "ucwFDDHxY6zC"
      },
      "execution_count": 23,
      "outputs": []
    },
    {
      "cell_type": "code",
      "source": [
        "def read_requirements(path):\n",
        "    return [line.strip() for line in read(path).split(\"\\n\") if not line.startswith(('\"', \"#\", \"-\", \"git+\"))]\n",
        "\n",
        "\n",
        "setup(\n",
        "    name=\"openai-detector\",\n",
        "    version=\"0.1.2\",\n",
        "    description=\"Open AI classifier for indicating AI-written text\",\n",
        "    url=\"https://github.com/promptslab/openai-detector\",\n",
        "    long_description=read(\"README.md\"),\n",
        "    long_description_content_type=\"text/markdown\",\n",
        "    license=\"Apache\",\n",
        "    author=\"monk1337\",\n",
        "    maintainer=\"All our contributors\",\n",
        "    packages=find_packages(),\n",
        "    install_requires=[\"requests\",\"numpy\"],\n",
        "    python_requires=\">=3.7.0\",)"
      ],
      "metadata": {
        "colab": {
          "base_uri": "https://localhost:8080/",
          "height": 356
        },
        "id": "B_HNDKbuZM2Z",
        "outputId": "ce1e2534-faa0-4f62-80e0-75455899c488"
      },
      "execution_count": 22,
      "outputs": [
        {
          "output_type": "error",
          "ename": "NameError",
          "evalue": "ignored",
          "traceback": [
            "\u001b[0;31m---------------------------------------------------------------------------\u001b[0m",
            "\u001b[0;31mNameError\u001b[0m                                 Traceback (most recent call last)",
            "\u001b[0;32m<ipython-input-22-16b606e7bc10>\u001b[0m in \u001b[0;36m<cell line: 5>\u001b[0;34m()\u001b[0m\n\u001b[1;32m      8\u001b[0m     \u001b[0mdescription\u001b[0m\u001b[0;34m=\u001b[0m\u001b[0;34m\"Open AI classifier for indicating AI-written text\"\u001b[0m\u001b[0;34m,\u001b[0m\u001b[0;34m\u001b[0m\u001b[0;34m\u001b[0m\u001b[0m\n\u001b[1;32m      9\u001b[0m     \u001b[0murl\u001b[0m\u001b[0;34m=\u001b[0m\u001b[0;34m\"https://github.com/promptslab/openai-detector\"\u001b[0m\u001b[0;34m,\u001b[0m\u001b[0;34m\u001b[0m\u001b[0;34m\u001b[0m\u001b[0m\n\u001b[0;32m---> 10\u001b[0;31m     \u001b[0mlong_description\u001b[0m\u001b[0;34m=\u001b[0m\u001b[0mread\u001b[0m\u001b[0;34m(\u001b[0m\u001b[0;34m\"README.md\"\u001b[0m\u001b[0;34m)\u001b[0m\u001b[0;34m,\u001b[0m\u001b[0;34m\u001b[0m\u001b[0;34m\u001b[0m\u001b[0m\n\u001b[0m\u001b[1;32m     11\u001b[0m     \u001b[0mlong_description_content_type\u001b[0m\u001b[0;34m=\u001b[0m\u001b[0;34m\"text/markdown\"\u001b[0m\u001b[0;34m,\u001b[0m\u001b[0;34m\u001b[0m\u001b[0;34m\u001b[0m\u001b[0m\n\u001b[1;32m     12\u001b[0m     \u001b[0mlicense\u001b[0m\u001b[0;34m=\u001b[0m\u001b[0;34m\"Apache\"\u001b[0m\u001b[0;34m,\u001b[0m\u001b[0;34m\u001b[0m\u001b[0;34m\u001b[0m\u001b[0m\n",
            "\u001b[0;32m<ipython-input-21-da57f65aec1c>\u001b[0m in \u001b[0;36mread\u001b[0;34m(*paths, **kwargs)\u001b[0m\n\u001b[1;32m      2\u001b[0m     \u001b[0mcontent\u001b[0m \u001b[0;34m=\u001b[0m \u001b[0;34m\"\"\u001b[0m\u001b[0;34m\u001b[0m\u001b[0;34m\u001b[0m\u001b[0m\n\u001b[1;32m      3\u001b[0m     with io.open(\n\u001b[0;32m----> 4\u001b[0;31m         \u001b[0mos\u001b[0m\u001b[0;34m.\u001b[0m\u001b[0mpath\u001b[0m\u001b[0;34m.\u001b[0m\u001b[0mjoin\u001b[0m\u001b[0;34m(\u001b[0m\u001b[0mos\u001b[0m\u001b[0;34m.\u001b[0m\u001b[0mpath\u001b[0m\u001b[0;34m.\u001b[0m\u001b[0mdirname\u001b[0m\u001b[0;34m(\u001b[0m\u001b[0m__file__\u001b[0m\u001b[0;34m)\u001b[0m\u001b[0;34m,\u001b[0m \u001b[0;34m*\u001b[0m\u001b[0mpaths\u001b[0m\u001b[0;34m)\u001b[0m\u001b[0;34m,\u001b[0m\u001b[0;34m\u001b[0m\u001b[0;34m\u001b[0m\u001b[0m\n\u001b[0m\u001b[1;32m      5\u001b[0m         \u001b[0mencoding\u001b[0m\u001b[0;34m=\u001b[0m\u001b[0mkwargs\u001b[0m\u001b[0;34m.\u001b[0m\u001b[0mget\u001b[0m\u001b[0;34m(\u001b[0m\u001b[0;34m\"encoding\"\u001b[0m\u001b[0;34m,\u001b[0m \u001b[0;34m\"utf8\"\u001b[0m\u001b[0;34m)\u001b[0m\u001b[0;34m,\u001b[0m\u001b[0;34m\u001b[0m\u001b[0;34m\u001b[0m\u001b[0m\n\u001b[1;32m      6\u001b[0m     ) as open_file:\n",
            "\u001b[0;31mNameError\u001b[0m: name '__file__' is not defined"
          ]
        }
      ]
    }
  ]
}